{
 "cells": [
  {
   "cell_type": "markdown",
   "id": "42d432c7",
   "metadata": {},
   "source": [
    "# Hidden Markov Model"
   ]
  },
  {
   "cell_type": "markdown",
   "id": "e13de504",
   "metadata": {},
   "source": [
    "## Imports"
   ]
  },
  {
   "cell_type": "code",
   "execution_count": 112,
   "id": "3677bf9f",
   "metadata": {},
   "outputs": [],
   "source": [
    "import os\n",
    "import pandas as pd\n",
    "import numpy as np\n",
    "import matplotlib.pyplot as plt\n",
    "import seaborn as sns\n",
    "import warnings\n",
    "warnings.filterwarnings(\"ignore\")\n",
    "\n",
    "\n",
    "from scipy.stats import norm\n",
    "\n",
    "from sklearn.model_selection import train_test_split, GridSearchCV\n",
    "from sklearn.preprocessing import StandardScaler\n",
    "from sklearn.metrics import accuracy_score, confusion_matrix, classification_report\n",
    "\n",
    "from sklearn.linear_model import LogisticRegression\n",
    "from sklearn.tree import DecisionTreeClassifier\n",
    "from sklearn.metrics import confusion_matrix,precision_recall_curve,auc,roc_auc_score,roc_curve,recall_score,classification_report \n",
    "\n",
    "from pomegranate import HiddenMarkovModel, State, DiscreteDistribution"
   ]
  },
  {
   "cell_type": "markdown",
   "id": "86f7cd7b",
   "metadata": {},
   "source": [
    "## Tratamento do data set"
   ]
  },
  {
   "cell_type": "code",
   "execution_count": 113,
   "id": "9a2c0664",
   "metadata": {
    "scrolled": true
   },
   "outputs": [
    {
     "data": {
      "text/html": [
       "<div>\n",
       "<style scoped>\n",
       "    .dataframe tbody tr th:only-of-type {\n",
       "        vertical-align: middle;\n",
       "    }\n",
       "\n",
       "    .dataframe tbody tr th {\n",
       "        vertical-align: top;\n",
       "    }\n",
       "\n",
       "    .dataframe thead th {\n",
       "        text-align: right;\n",
       "    }\n",
       "</style>\n",
       "<table border=\"1\" class=\"dataframe\">\n",
       "  <thead>\n",
       "    <tr style=\"text-align: right;\">\n",
       "      <th></th>\n",
       "      <th>age</th>\n",
       "      <th>sex</th>\n",
       "      <th>on_thyroxine</th>\n",
       "      <th>on_antithyroid_medication</th>\n",
       "      <th>sick</th>\n",
       "      <th>pregnant</th>\n",
       "      <th>thyroid_surgery</th>\n",
       "      <th>I131_treatment</th>\n",
       "      <th>query_hypothyroid</th>\n",
       "      <th>query_hyperthyroid</th>\n",
       "      <th>...</th>\n",
       "      <th>goitre</th>\n",
       "      <th>tumor</th>\n",
       "      <th>hypopituitary</th>\n",
       "      <th>psych</th>\n",
       "      <th>TSH</th>\n",
       "      <th>T3</th>\n",
       "      <th>TT4</th>\n",
       "      <th>T4U</th>\n",
       "      <th>FTI</th>\n",
       "      <th>Class</th>\n",
       "    </tr>\n",
       "  </thead>\n",
       "  <tbody>\n",
       "    <tr>\n",
       "      <th>0</th>\n",
       "      <td>41</td>\n",
       "      <td>0</td>\n",
       "      <td>0</td>\n",
       "      <td>0</td>\n",
       "      <td>0</td>\n",
       "      <td>0</td>\n",
       "      <td>0</td>\n",
       "      <td>0</td>\n",
       "      <td>0</td>\n",
       "      <td>0</td>\n",
       "      <td>...</td>\n",
       "      <td>0</td>\n",
       "      <td>0</td>\n",
       "      <td>0</td>\n",
       "      <td>0</td>\n",
       "      <td>1.3</td>\n",
       "      <td>2.5</td>\n",
       "      <td>125</td>\n",
       "      <td>1.14</td>\n",
       "      <td>109</td>\n",
       "      <td>0</td>\n",
       "    </tr>\n",
       "    <tr>\n",
       "      <th>1</th>\n",
       "      <td>70</td>\n",
       "      <td>0</td>\n",
       "      <td>0</td>\n",
       "      <td>0</td>\n",
       "      <td>0</td>\n",
       "      <td>0</td>\n",
       "      <td>0</td>\n",
       "      <td>0</td>\n",
       "      <td>0</td>\n",
       "      <td>0</td>\n",
       "      <td>...</td>\n",
       "      <td>0</td>\n",
       "      <td>0</td>\n",
       "      <td>0</td>\n",
       "      <td>0</td>\n",
       "      <td>0.72</td>\n",
       "      <td>1.2</td>\n",
       "      <td>61</td>\n",
       "      <td>0.87</td>\n",
       "      <td>70</td>\n",
       "      <td>0</td>\n",
       "    </tr>\n",
       "    <tr>\n",
       "      <th>2</th>\n",
       "      <td>80</td>\n",
       "      <td>0</td>\n",
       "      <td>0</td>\n",
       "      <td>0</td>\n",
       "      <td>0</td>\n",
       "      <td>0</td>\n",
       "      <td>0</td>\n",
       "      <td>0</td>\n",
       "      <td>0</td>\n",
       "      <td>0</td>\n",
       "      <td>...</td>\n",
       "      <td>0</td>\n",
       "      <td>0</td>\n",
       "      <td>0</td>\n",
       "      <td>0</td>\n",
       "      <td>2.2</td>\n",
       "      <td>0.6</td>\n",
       "      <td>80</td>\n",
       "      <td>0.7</td>\n",
       "      <td>115</td>\n",
       "      <td>1</td>\n",
       "    </tr>\n",
       "    <tr>\n",
       "      <th>3</th>\n",
       "      <td>66</td>\n",
       "      <td>0</td>\n",
       "      <td>0</td>\n",
       "      <td>0</td>\n",
       "      <td>0</td>\n",
       "      <td>0</td>\n",
       "      <td>0</td>\n",
       "      <td>0</td>\n",
       "      <td>0</td>\n",
       "      <td>0</td>\n",
       "      <td>...</td>\n",
       "      <td>0</td>\n",
       "      <td>1</td>\n",
       "      <td>0</td>\n",
       "      <td>0</td>\n",
       "      <td>0.6</td>\n",
       "      <td>2.2</td>\n",
       "      <td>123</td>\n",
       "      <td>0.93</td>\n",
       "      <td>132</td>\n",
       "      <td>0</td>\n",
       "    </tr>\n",
       "    <tr>\n",
       "      <th>4</th>\n",
       "      <td>68</td>\n",
       "      <td>1</td>\n",
       "      <td>0</td>\n",
       "      <td>0</td>\n",
       "      <td>0</td>\n",
       "      <td>0</td>\n",
       "      <td>0</td>\n",
       "      <td>0</td>\n",
       "      <td>0</td>\n",
       "      <td>0</td>\n",
       "      <td>...</td>\n",
       "      <td>0</td>\n",
       "      <td>0</td>\n",
       "      <td>0</td>\n",
       "      <td>0</td>\n",
       "      <td>2.4</td>\n",
       "      <td>1.6</td>\n",
       "      <td>83</td>\n",
       "      <td>0.89</td>\n",
       "      <td>93</td>\n",
       "      <td>0</td>\n",
       "    </tr>\n",
       "    <tr>\n",
       "      <th>...</th>\n",
       "      <td>...</td>\n",
       "      <td>...</td>\n",
       "      <td>...</td>\n",
       "      <td>...</td>\n",
       "      <td>...</td>\n",
       "      <td>...</td>\n",
       "      <td>...</td>\n",
       "      <td>...</td>\n",
       "      <td>...</td>\n",
       "      <td>...</td>\n",
       "      <td>...</td>\n",
       "      <td>...</td>\n",
       "      <td>...</td>\n",
       "      <td>...</td>\n",
       "      <td>...</td>\n",
       "      <td>...</td>\n",
       "      <td>...</td>\n",
       "      <td>...</td>\n",
       "      <td>...</td>\n",
       "      <td>...</td>\n",
       "      <td>...</td>\n",
       "    </tr>\n",
       "    <tr>\n",
       "      <th>2638</th>\n",
       "      <td>19</td>\n",
       "      <td>0</td>\n",
       "      <td>0</td>\n",
       "      <td>0</td>\n",
       "      <td>0</td>\n",
       "      <td>0</td>\n",
       "      <td>0</td>\n",
       "      <td>0</td>\n",
       "      <td>0</td>\n",
       "      <td>0</td>\n",
       "      <td>...</td>\n",
       "      <td>0</td>\n",
       "      <td>0</td>\n",
       "      <td>0</td>\n",
       "      <td>0</td>\n",
       "      <td>8.8</td>\n",
       "      <td>2.7</td>\n",
       "      <td>108</td>\n",
       "      <td>1.11</td>\n",
       "      <td>97</td>\n",
       "      <td>0</td>\n",
       "    </tr>\n",
       "    <tr>\n",
       "      <th>2639</th>\n",
       "      <td>68</td>\n",
       "      <td>0</td>\n",
       "      <td>0</td>\n",
       "      <td>0</td>\n",
       "      <td>0</td>\n",
       "      <td>0</td>\n",
       "      <td>0</td>\n",
       "      <td>0</td>\n",
       "      <td>0</td>\n",
       "      <td>0</td>\n",
       "      <td>...</td>\n",
       "      <td>0</td>\n",
       "      <td>0</td>\n",
       "      <td>0</td>\n",
       "      <td>0</td>\n",
       "      <td>1</td>\n",
       "      <td>2.1</td>\n",
       "      <td>124</td>\n",
       "      <td>1.08</td>\n",
       "      <td>114</td>\n",
       "      <td>0</td>\n",
       "    </tr>\n",
       "    <tr>\n",
       "      <th>2640</th>\n",
       "      <td>74</td>\n",
       "      <td>0</td>\n",
       "      <td>0</td>\n",
       "      <td>0</td>\n",
       "      <td>0</td>\n",
       "      <td>0</td>\n",
       "      <td>0</td>\n",
       "      <td>0</td>\n",
       "      <td>0</td>\n",
       "      <td>1</td>\n",
       "      <td>...</td>\n",
       "      <td>0</td>\n",
       "      <td>0</td>\n",
       "      <td>0</td>\n",
       "      <td>0</td>\n",
       "      <td>5.1</td>\n",
       "      <td>1.8</td>\n",
       "      <td>112</td>\n",
       "      <td>1.07</td>\n",
       "      <td>105</td>\n",
       "      <td>0</td>\n",
       "    </tr>\n",
       "    <tr>\n",
       "      <th>2641</th>\n",
       "      <td>72</td>\n",
       "      <td>1</td>\n",
       "      <td>0</td>\n",
       "      <td>0</td>\n",
       "      <td>0</td>\n",
       "      <td>0</td>\n",
       "      <td>0</td>\n",
       "      <td>0</td>\n",
       "      <td>0</td>\n",
       "      <td>0</td>\n",
       "      <td>...</td>\n",
       "      <td>0</td>\n",
       "      <td>0</td>\n",
       "      <td>0</td>\n",
       "      <td>0</td>\n",
       "      <td>0.7</td>\n",
       "      <td>2</td>\n",
       "      <td>82</td>\n",
       "      <td>0.94</td>\n",
       "      <td>87</td>\n",
       "      <td>0</td>\n",
       "    </tr>\n",
       "    <tr>\n",
       "      <th>2642</th>\n",
       "      <td>64</td>\n",
       "      <td>0</td>\n",
       "      <td>0</td>\n",
       "      <td>0</td>\n",
       "      <td>0</td>\n",
       "      <td>0</td>\n",
       "      <td>0</td>\n",
       "      <td>0</td>\n",
       "      <td>0</td>\n",
       "      <td>0</td>\n",
       "      <td>...</td>\n",
       "      <td>0</td>\n",
       "      <td>0</td>\n",
       "      <td>0</td>\n",
       "      <td>0</td>\n",
       "      <td>1</td>\n",
       "      <td>2.2</td>\n",
       "      <td>99</td>\n",
       "      <td>1.07</td>\n",
       "      <td>92</td>\n",
       "      <td>0</td>\n",
       "    </tr>\n",
       "  </tbody>\n",
       "</table>\n",
       "<p>2643 rows × 21 columns</p>\n",
       "</div>"
      ],
      "text/plain": [
       "     age  sex  on_thyroxine  on_antithyroid_medication  sick  pregnant  \\\n",
       "0     41    0             0                          0     0         0   \n",
       "1     70    0             0                          0     0         0   \n",
       "2     80    0             0                          0     0         0   \n",
       "3     66    0             0                          0     0         0   \n",
       "4     68    1             0                          0     0         0   \n",
       "...   ..  ...           ...                        ...   ...       ...   \n",
       "2638  19    0             0                          0     0         0   \n",
       "2639  68    0             0                          0     0         0   \n",
       "2640  74    0             0                          0     0         0   \n",
       "2641  72    1             0                          0     0         0   \n",
       "2642  64    0             0                          0     0         0   \n",
       "\n",
       "      thyroid_surgery  I131_treatment  query_hypothyroid  query_hyperthyroid  \\\n",
       "0                   0               0                  0                   0   \n",
       "1                   0               0                  0                   0   \n",
       "2                   0               0                  0                   0   \n",
       "3                   0               0                  0                   0   \n",
       "4                   0               0                  0                   0   \n",
       "...               ...             ...                ...                 ...   \n",
       "2638                0               0                  0                   0   \n",
       "2639                0               0                  0                   0   \n",
       "2640                0               0                  0                   1   \n",
       "2641                0               0                  0                   0   \n",
       "2642                0               0                  0                   0   \n",
       "\n",
       "      ...  goitre  tumor  hypopituitary  psych   TSH   T3  TT4   T4U  FTI  \\\n",
       "0     ...       0      0              0      0   1.3  2.5  125  1.14  109   \n",
       "1     ...       0      0              0      0  0.72  1.2   61  0.87   70   \n",
       "2     ...       0      0              0      0   2.2  0.6   80   0.7  115   \n",
       "3     ...       0      1              0      0   0.6  2.2  123  0.93  132   \n",
       "4     ...       0      0              0      0   2.4  1.6   83  0.89   93   \n",
       "...   ...     ...    ...            ...    ...   ...  ...  ...   ...  ...   \n",
       "2638  ...       0      0              0      0   8.8  2.7  108  1.11   97   \n",
       "2639  ...       0      0              0      0     1  2.1  124  1.08  114   \n",
       "2640  ...       0      0              0      0   5.1  1.8  112  1.07  105   \n",
       "2641  ...       0      0              0      0   0.7    2   82  0.94   87   \n",
       "2642  ...       0      0              0      0     1  2.2   99  1.07   92   \n",
       "\n",
       "     Class  \n",
       "0        0  \n",
       "1        0  \n",
       "2        1  \n",
       "3        0  \n",
       "4        0  \n",
       "...    ...  \n",
       "2638     0  \n",
       "2639     0  \n",
       "2640     0  \n",
       "2641     0  \n",
       "2642     0  \n",
       "\n",
       "[2643 rows x 21 columns]"
      ]
     },
     "execution_count": 113,
     "metadata": {},
     "output_type": "execute_result"
    }
   ],
   "source": [
    "data = pd.read_csv(\"dataset_thyroid_sick.csv\")\n",
    "data = data.drop(['TSH_measured','T3_measured','TT4_measured','T4U_measured','FTI_measured','TBG_measured','TBG','referral_source','query_on_thyroxine'], axis=1)\n",
    "\n",
    "#remoção de linhas com ?, substituição de valores boolean para int, assim como as da string das labels\n",
    "data = data[data != '?']\n",
    "data = data.dropna()\n",
    "data = data.replace({'negative': 0, 'sick': 1})\n",
    "data = data.replace({'t': 1, 'f': 0})\n",
    "data = data.replace({'M': 1, 'F': 0})\n",
    "data.reset_index(drop=True)"
   ]
  },
  {
   "cell_type": "code",
   "execution_count": 114,
   "id": "5f4c58b2",
   "metadata": {},
   "outputs": [],
   "source": [
    "data['normTSH'] = StandardScaler().fit_transform(data['TSH'].values.reshape(-1, 1))\n",
    "data['normT3'] = StandardScaler().fit_transform(data['T3'].values.reshape(-1, 1))\n",
    "data['normTT4'] = StandardScaler().fit_transform(data['TT4'].values.reshape(-1, 1))\n",
    "data['normT4U'] = StandardScaler().fit_transform(data['T4U'].values.reshape(-1, 1))\n",
    "data['normFTI'] = StandardScaler().fit_transform(data['FTI'].values.reshape(-1, 1))\n",
    "data['normAge'] = StandardScaler().fit_transform(data['age'].values.reshape(-1, 1))\n",
    "data = data.drop(['TSH','T3','TT4','FTI','T4U','age'], axis=1)"
   ]
  },
  {
   "cell_type": "code",
   "execution_count": 115,
   "id": "d2fcd399",
   "metadata": {},
   "outputs": [
    {
     "data": {
      "text/html": [
       "<div>\n",
       "<style scoped>\n",
       "    .dataframe tbody tr th:only-of-type {\n",
       "        vertical-align: middle;\n",
       "    }\n",
       "\n",
       "    .dataframe tbody tr th {\n",
       "        vertical-align: top;\n",
       "    }\n",
       "\n",
       "    .dataframe thead th {\n",
       "        text-align: right;\n",
       "    }\n",
       "</style>\n",
       "<table border=\"1\" class=\"dataframe\">\n",
       "  <thead>\n",
       "    <tr style=\"text-align: right;\">\n",
       "      <th></th>\n",
       "      <th>normAge</th>\n",
       "      <th>sick</th>\n",
       "      <th>query_hypothyroid</th>\n",
       "      <th>hypopituitary</th>\n",
       "      <th>normT3</th>\n",
       "      <th>normTT4</th>\n",
       "      <th>normT4U</th>\n",
       "      <th>Class</th>\n",
       "    </tr>\n",
       "  </thead>\n",
       "  <tbody>\n",
       "    <tr>\n",
       "      <th>0</th>\n",
       "      <td>-0.593285</td>\n",
       "      <td>0</td>\n",
       "      <td>0</td>\n",
       "      <td>0</td>\n",
       "      <td>0.605651</td>\n",
       "      <td>0.483484</td>\n",
       "      <td>0.734949</td>\n",
       "      <td>0</td>\n",
       "    </tr>\n",
       "    <tr>\n",
       "      <th>4</th>\n",
       "      <td>0.830789</td>\n",
       "      <td>0</td>\n",
       "      <td>0</td>\n",
       "      <td>0</td>\n",
       "      <td>-0.972673</td>\n",
       "      <td>-1.321686</td>\n",
       "      <td>-0.639743</td>\n",
       "      <td>0</td>\n",
       "    </tr>\n",
       "    <tr>\n",
       "      <th>7</th>\n",
       "      <td>1.321849</td>\n",
       "      <td>0</td>\n",
       "      <td>0</td>\n",
       "      <td>0</td>\n",
       "      <td>-1.701131</td>\n",
       "      <td>-0.785776</td>\n",
       "      <td>-1.505291</td>\n",
       "      <td>1</td>\n",
       "    </tr>\n",
       "    <tr>\n",
       "      <th>8</th>\n",
       "      <td>0.634365</td>\n",
       "      <td>0</td>\n",
       "      <td>0</td>\n",
       "      <td>0</td>\n",
       "      <td>0.241423</td>\n",
       "      <td>0.427073</td>\n",
       "      <td>-0.334256</td>\n",
       "      <td>0</td>\n",
       "    </tr>\n",
       "    <tr>\n",
       "      <th>9</th>\n",
       "      <td>0.732577</td>\n",
       "      <td>0</td>\n",
       "      <td>0</td>\n",
       "      <td>0</td>\n",
       "      <td>-0.487035</td>\n",
       "      <td>-0.701159</td>\n",
       "      <td>-0.537914</td>\n",
       "      <td>0</td>\n",
       "    </tr>\n",
       "  </tbody>\n",
       "</table>\n",
       "</div>"
      ],
      "text/plain": [
       "    normAge  sick  query_hypothyroid  hypopituitary    normT3   normTT4  \\\n",
       "0 -0.593285     0                  0              0  0.605651  0.483484   \n",
       "4  0.830789     0                  0              0 -0.972673 -1.321686   \n",
       "7  1.321849     0                  0              0 -1.701131 -0.785776   \n",
       "8  0.634365     0                  0              0  0.241423  0.427073   \n",
       "9  0.732577     0                  0              0 -0.487035 -0.701159   \n",
       "\n",
       "    normT4U  Class  \n",
       "0  0.734949      0  \n",
       "4 -0.639743      0  \n",
       "7 -1.505291      1  \n",
       "8 -0.334256      0  \n",
       "9 -0.537914      0  "
      ]
     },
     "execution_count": 115,
     "metadata": {},
     "output_type": "execute_result"
    }
   ],
   "source": [
    "data = data.drop(['sex','on_thyroxine','on_antithyroid_medication','pregnant','thyroid_surgery','I131_treatment','query_hyperthyroid','lithium','goitre','tumor','psych','normTSH','normFTI'], axis=1)\n",
    "data = data[['normAge', 'sick', 'query_hypothyroid', 'hypopituitary', 'normT3', 'normTT4', 'normT4U', 'Class']]\n",
    "data.head()"
   ]
  },
  {
   "cell_type": "code",
   "execution_count": 116,
   "id": "175faf40",
   "metadata": {},
   "outputs": [
    {
     "name": "stdout",
     "output_type": "stream",
     "text": [
      "There are 2643 rows and 8 columns\n"
     ]
    }
   ],
   "source": [
    "rows, columns = data.shape\n",
    "print(f\"There are {rows} rows and {columns} columns\")"
   ]
  },
  {
   "cell_type": "code",
   "execution_count": 142,
   "id": "8de93039",
   "metadata": {},
   "outputs": [
    {
     "data": {
      "image/png": "[encoded data removed]",
      "text/plain": [
       "<Figure size 432x288 with 1 Axes>"
      ]
     },
     "metadata": {
      "needs_background": "light"
     },
     "output_type": "display_data"
    }
   ],
   "source": [
    "bars = [\"0\",\"1\"]\n",
    "class_counts = data.groupby(\"Class\").Class.count()\n",
    "plt.bar(x = class_counts.index, height=class_counts.values)\n",
    "plt.xlabel(\"Type of class\")\n",
    "plt.ylabel(\"Counts\")\n",
    "y_pos = np.arange(len(bars))\n",
    "bars = ('Not Sick','Sick')\n",
    "plt.xticks(y_pos, bars, color='black', fontsize='12', horizontalalignment='center')\n",
    "plt.title(\"Types of class\")\n",
    "plt.savefig('figures/unbalanced_data_bar.png')"
   ]
  },
  {
   "cell_type": "markdown",
   "id": "42abd05d",
   "metadata": {},
   "source": [
    "### Box Plot da feature T3 normalizada"
   ]
  },
  {
   "cell_type": "code",
   "execution_count": 139,
   "id": "4e93c2f1",
   "metadata": {},
   "outputs": [
    {
     "name": "stdout",
     "output_type": "stream",
     "text": [
      "Percentis para Class = 0:  [-0.4870348  -0.00139646  0.48424188] \n",
      "Percentis para Class = 1:  [-1.57972107 -1.3369019  -1.21549231]\n"
     ]
    },
    {
     "data": {
      "image/png": "[encoded data removed]",
      "text/plain": [
       "<Figure size 432x288 with 2 Axes>"
      ]
     },
     "metadata": {
      "needs_background": "light"
     },
     "output_type": "display_data"
    }
   ],
   "source": [
    "plt.subplot(1, 2, 1)\n",
    "sns.boxplot(x = \"Class\", y = \"normT3\", data = data)\n",
    "plt.title(\"NormT3 Box Plot by Class\")\n",
    "normT3_0 = np.percentile(data.loc[data['Class'] == 0, [\"normT3\"]], [25,50,75])\n",
    "normT3_1 = np.percentile(data.loc[data['Class'] == 1, [\"normT3\"]], [25,50,75])\n",
    "print(\"Percentis para Class = 0: \",normT3_0, \"\\nPercentis para Class = 1: \", normT3_1)\n",
    "plt.subplot(1, 2, 2)\n",
    "data.boxplot(column='normT3', return_type='axes');\n",
    "plt.title(\"NormT3 Box Plot\")\n",
    "plt.savefig('figures/T3_boxplot.png')"
   ]
  },
  {
   "cell_type": "markdown",
   "id": "67c19a72",
   "metadata": {},
   "source": [
    "### Box Plot da feature TT4 normalizada"
   ]
  },
  {
   "cell_type": "code",
   "execution_count": 140,
   "id": "5add4bf1",
   "metadata": {},
   "outputs": [
    {
     "name": "stdout",
     "output_type": "stream",
     "text": [
      "Percentis para Class = 0:  [-0.53192385 -0.08063139  0.48348418] \n",
      "Percentis para Class = 1:  [-0.9832163  -0.5883354  -0.05242561]\n"
     ]
    },
    {
     "data": {
      "image/png": "[encoded data removed]",
      "text/plain": [
       "<Figure size 432x288 with 2 Axes>"
      ]
     },
     "metadata": {
      "needs_background": "light"
     },
     "output_type": "display_data"
    }
   ],
   "source": [
    "plt.subplot(1, 2, 1)\n",
    "sns.boxplot(x = \"Class\", y = \"normTT4\", data = data)\n",
    "plt.title(\"NormTT4 Box Plot by Class\")\n",
    "normTT4_0 = np.percentile(data.loc[data['Class'] == 0, [\"normTT4\"]], [25,50,75])\n",
    "normTT4_1 = np.percentile(data.loc[data['Class'] == 1, [\"normTT4\"]], [25,50,75])\n",
    "print(\"Percentis para Class = 0: \",normTT4_0,\"\\nPercentis para Class = 1: \", normTT4_1)\n",
    "plt.subplot(1, 2, 2)\n",
    "data.boxplot(column='normTT4', return_type='axes');\n",
    "plt.title(\"NormTT4 Box Plot\")\n",
    "plt.savefig('figures/TT4_boxplot.png')"
   ]
  },
  {
   "cell_type": "markdown",
   "id": "1e7a0e99",
   "metadata": {},
   "source": [
    "### NormT3 Distplot"
   ]
  },
  {
   "cell_type": "code",
   "execution_count": 137,
   "id": "01362e73",
   "metadata": {},
   "outputs": [
    {
     "data": {
      "image/png": "[encoded data removed]",
      "text/plain": [
       "<Figure size 432x288 with 1 Axes>"
      ]
     },
     "metadata": {
      "needs_background": "light"
     },
     "output_type": "display_data"
    }
   ],
   "source": [
    "plt.title(\"NormT3 Distplot\")\n",
    "sns.distplot(data[\"normT3\"], fit=norm, color=\"coral\")\n",
    "plt.savefig('figures/normT3_distoplot.png')"
   ]
  },
  {
   "cell_type": "markdown",
   "id": "6b002389",
   "metadata": {},
   "source": [
    "### NormTT4 Distplot"
   ]
  },
  {
   "cell_type": "code",
   "execution_count": 138,
   "id": "9d282580",
   "metadata": {},
   "outputs": [
    {
     "data": {
      "image/png": "[encoded data removed]",
      "text/plain": [
       "<Figure size 432x288 with 1 Axes>"
      ]
     },
     "metadata": {
      "needs_background": "light"
     },
     "output_type": "display_data"
    }
   ],
   "source": [
    "plt.title(\"NormTT4 Distplot\")\n",
    "sns.distplot(data[\"normTT4\"], fit=norm, color=\"teal\")\n",
    "plt.savefig('figures/normTT4_distoplot.png')"
   ]
  },
  {
   "cell_type": "markdown",
   "id": "ac74ee79",
   "metadata": {},
   "source": [
    "## Separação dos dados em treino e teste"
   ]
  },
  {
   "cell_type": "code",
   "execution_count": 122,
   "id": "b7567d11",
   "metadata": {},
   "outputs": [
    {
     "name": "stdout",
     "output_type": "stream",
     "text": [
      "Treino:  (1850, 7) (1850,) Teste:  (793, 7) (793,)\n"
     ]
    }
   ],
   "source": [
    "X = data.iloc[:, :-1]\n",
    "y = data.iloc[:, -1]\n",
    "X_train, X_test, y_train, y_test = train_test_split(X, y, test_size = 0.3, random_state=0)\n",
    "print(\"Treino: \",X_train.shape,y_train.shape,\"Teste: \",X_test.shape,y_test.shape)"
   ]
  },
  {
   "cell_type": "markdown",
   "id": "38aa62e5",
   "metadata": {},
   "source": [
    "## Treino e teste de classificadores de modelo"
   ]
  },
  {
   "cell_type": "code",
   "execution_count": 123,
   "id": "6be6995d",
   "metadata": {},
   "outputs": [],
   "source": [
    "models_best_results = []\n",
    "models_results = []\n",
    "models_best_parameters = {}\n",
    "cv = 5"
   ]
  },
  {
   "cell_type": "markdown",
   "id": "4197a201",
   "metadata": {},
   "source": [
    "### Logistic Regression"
   ]
  },
  {
   "cell_type": "code",
   "execution_count": 124,
   "id": "e18f02aa",
   "metadata": {},
   "outputs": [
    {
     "name": "stdout",
     "output_type": "stream",
     "text": [
      "              precision    recall  f1-score     support\n",
      "0              0.955026  0.987688  0.971083  731.000000\n",
      "1              0.756757  0.451613  0.565657   62.000000\n",
      "accuracy       0.945776  0.945776  0.945776    0.945776\n",
      "macro avg      0.855892  0.719651  0.768370  793.000000\n",
      "weighted avg   0.939525  0.945776  0.939385  793.000000\n",
      "\n",
      "Confusion Matrix\n",
      " [[722   9]\n",
      " [ 34  28]]\n"
     ]
    }
   ],
   "source": [
    "lr = LogisticRegression(random_state = 35)\n",
    "lr.fit(X_train, y_train)\n",
    "y_pred = lr.predict(X_test)\n",
    "\n",
    "report = classification_report(y_test, y_pred, output_dict=True)\n",
    "data_report = pd.DataFrame(report).transpose()\n",
    "print(data_report)\n",
    "print(\"\\nConfusion Matrix\\n\",confusion_matrix(y_test, y_pred))"
   ]
  },
  {
   "cell_type": "code",
   "execution_count": 125,
   "id": "1ebbf33a",
   "metadata": {},
   "outputs": [
    {
     "name": "stdout",
     "output_type": "stream",
     "text": [
      "Fitting 5 folds for each of 5 candidates, totalling 25 fits\n",
      "[CV 1/5] END .............................C=0.1;, score=0.949 total time=   0.0s\n",
      "[CV 2/5] END .............................C=0.1;, score=0.941 total time=   0.0s\n",
      "[CV 3/5] END .............................C=0.1;, score=0.938 total time=   0.0s\n",
      "[CV 4/5] END .............................C=0.1;, score=0.941 total time=   0.0s\n",
      "[CV 5/5] END .............................C=0.1;, score=0.922 total time=   0.0s\n",
      "[CV 1/5] END .............................C=0.5;, score=0.959 total time=   0.0s\n",
      "[CV 2/5] END .............................C=0.5;, score=0.946 total time=   0.0s\n",
      "[CV 3/5] END .............................C=0.5;, score=0.957 total time=   0.0s\n",
      "[CV 4/5] END .............................C=0.5;, score=0.943 total time=   0.0s\n",
      "[CV 5/5] END .............................C=0.5;, score=0.935 total time=   0.0s\n",
      "[CV 1/5] END ...............................C=1;, score=0.957 total time=   0.0s\n",
      "[CV 2/5] END ...............................C=1;, score=0.951 total time=   0.0s\n",
      "[CV 3/5] END ...............................C=1;, score=0.957 total time=   0.0s\n",
      "[CV 4/5] END ...............................C=1;, score=0.943 total time=   0.0s\n",
      "[CV 5/5] END ...............................C=1;, score=0.941 total time=   0.0s\n",
      "[CV 1/5] END ...............................C=2;, score=0.959 total time=   0.0s\n",
      "[CV 2/5] END ...............................C=2;, score=0.951 total time=   0.0s\n",
      "[CV 3/5] END ...............................C=2;, score=0.959 total time=   0.0s\n",
      "[CV 4/5] END ...............................C=2;, score=0.943 total time=   0.0s\n",
      "[CV 5/5] END ...............................C=2;, score=0.943 total time=   0.0s\n",
      "[CV 1/5] END ...............................C=5;, score=0.959 total time=   0.0s\n",
      "[CV 2/5] END ...............................C=5;, score=0.951 total time=   0.0s\n",
      "[CV 3/5] END ...............................C=5;, score=0.959 total time=   0.0s\n",
      "[CV 4/5] END ...............................C=5;, score=0.943 total time=   0.0s\n",
      "[CV 5/5] END ...............................C=5;, score=0.941 total time=   0.0s\n"
     ]
    },
    {
     "data": {
      "text/plain": [
       "GridSearchCV(cv=5, estimator=LogisticRegression(random_state=35),\n",
       "             param_grid={'C': [0.1, 0.5, 1, 2, 5]}, scoring='accuracy',\n",
       "             verbose=3)"
      ]
     },
     "execution_count": 125,
     "metadata": {},
     "output_type": "execute_result"
    }
   ],
   "source": [
    "gscv = GridSearchCV(estimator=lr, param_grid={\"C\": [0.1, 0.5, 1, 2, 5]}, cv = cv, scoring = \"accuracy\", verbose = 3)\n",
    "gscv.fit(X_train, y_train)"
   ]
  },
  {
   "cell_type": "code",
   "execution_count": 126,
   "id": "919abb0b",
   "metadata": {},
   "outputs": [
    {
     "name": "stdout",
     "output_type": "stream",
     "text": [
      "              precision    recall  f1-score     support\n",
      "0              0.956291  0.987688  0.971736  731.000000\n",
      "1              0.763158  0.467742  0.580000   62.000000\n",
      "accuracy       0.947037  0.947037  0.947037    0.947037\n",
      "macro avg      0.859725  0.727715  0.775868  793.000000\n",
      "weighted avg   0.941191  0.947037  0.941109  793.000000\n",
      "\n",
      "Confusion Matrix\n",
      " [[722   9]\n",
      " [ 33  29]]\n"
     ]
    }
   ],
   "source": [
    "lr = LogisticRegression(C = gscv.best_params_[\"C\"], random_state = 42)\n",
    "lr.fit(X_train, y_train)\n",
    "y_pred = lr.predict(X_test)\n",
    "y_pred_score=lr.decision_function(X_test)\n",
    "\n",
    "report = classification_report(y_test, y_pred, output_dict=True)\n",
    "data_report = pd.DataFrame(report).transpose()\n",
    "print(data_report)\n",
    "print(\"\\nConfusion Matrix\\n\",confusion_matrix(y_test, y_pred))"
   ]
  },
  {
   "cell_type": "markdown",
   "id": "8f60bc42",
   "metadata": {},
   "source": [
    "### ROC Curve for Logistic Regression"
   ]
  },
  {
   "cell_type": "code",
   "execution_count": 135,
   "id": "2b1085ff",
   "metadata": {},
   "outputs": [
    {
     "data": {
      "image/png": "[encoded data removed]",
      "text/plain": [
       "<Figure size 432x288 with 1 Axes>"
      ]
     },
     "metadata": {
      "needs_background": "light"
     },
     "output_type": "display_data"
    }
   ],
   "source": [
    "fpr, tpr, thresholds = roc_curve(y_test,y_pred_score)\n",
    "roc_auc = auc(fpr,tpr)\n",
    "plt.title('Receiver Operating Characteristic')\n",
    "plt.plot(fpr, tpr, 'b',label='AUC = %0.2f'% roc_auc)\n",
    "plt.legend(loc='lower right')\n",
    "plt.plot([0,1],[0,1],'r--')\n",
    "plt.xlim([-0.1,1.0])\n",
    "plt.ylim([-0.1,1.01])\n",
    "plt.ylabel('True Positive Rate')\n",
    "plt.xlabel('False Positive Rate')\n",
    "plt.savefig('figures/ROC_graph.png')"
   ]
  },
  {
   "cell_type": "markdown",
   "id": "3d141fd7",
   "metadata": {},
   "source": [
    "### Decision Tree Classifier"
   ]
  },
  {
   "cell_type": "code",
   "execution_count": 107,
   "id": "6dbf8b05",
   "metadata": {},
   "outputs": [
    {
     "name": "stdout",
     "output_type": "stream",
     "text": [
      "              precision    recall  f1-score     support\n",
      "0              0.982289  0.986320  0.984300  731.000000\n",
      "1              0.830508  0.790323  0.809917   62.000000\n",
      "accuracy       0.970996  0.970996  0.970996    0.970996\n",
      "macro avg      0.906399  0.888321  0.897109  793.000000\n",
      "weighted avg   0.970422  0.970996  0.970666  793.000000\n",
      "\n",
      "Confusion Matrix\n",
      " [[721  10]\n",
      " [ 13  49]]\n"
     ]
    }
   ],
   "source": [
    "dtc = DecisionTreeClassifier(random_state = 37)\n",
    "dtc.fit(X_train, y_train)\n",
    "y_pred = dtc.predict(X_test)\n",
    "\n",
    "report = classification_report(y_test, y_pred, output_dict=True)\n",
    "data_report = pd.DataFrame(report).transpose()\n",
    "print(data_report)\n",
    "print(\"\\nConfusion Matrix\\n\",confusion_matrix(y_test, y_pred))"
   ]
  },
  {
   "cell_type": "code",
   "execution_count": 108,
   "id": "2f3e02ef",
   "metadata": {},
   "outputs": [
    {
     "name": "stdout",
     "output_type": "stream",
     "text": [
      "Fitting 5 folds for each of 4 candidates, totalling 20 fits\n",
      "[CV 1/5] END .....criterion=gini, splitter=best;, score=0.968 total time=   0.0s\n",
      "[CV 2/5] END .....criterion=gini, splitter=best;, score=0.968 total time=   0.0s\n",
      "[CV 3/5] END .....criterion=gini, splitter=best;, score=0.968 total time=   0.0s\n",
      "[CV 4/5] END .....criterion=gini, splitter=best;, score=0.973 total time=   0.0s\n",
      "[CV 5/5] END .....criterion=gini, splitter=best;, score=0.959 total time=   0.0s\n",
      "[CV 1/5] END ...criterion=gini, splitter=random;, score=0.959 total time=   0.0s\n",
      "[CV 2/5] END ...criterion=gini, splitter=random;, score=0.959 total time=   0.0s\n",
      "[CV 3/5] END ...criterion=gini, splitter=random;, score=0.959 total time=   0.0s\n",
      "[CV 4/5] END ...criterion=gini, splitter=random;, score=0.935 total time=   0.0s\n",
      "[CV 5/5] END ...criterion=gini, splitter=random;, score=0.932 total time=   0.0s\n",
      "[CV 1/5] END ..criterion=entropy, splitter=best;, score=0.968 total time=   0.0s\n",
      "[CV 2/5] END ..criterion=entropy, splitter=best;, score=0.970 total time=   0.0s\n",
      "[CV 3/5] END ..criterion=entropy, splitter=best;, score=0.968 total time=   0.0s\n",
      "[CV 4/5] END ..criterion=entropy, splitter=best;, score=0.973 total time=   0.0s\n",
      "[CV 5/5] END ..criterion=entropy, splitter=best;, score=0.962 total time=   0.0s\n",
      "[CV 1/5] END criterion=entropy, splitter=random;, score=0.949 total time=   0.0s\n",
      "[CV 2/5] END criterion=entropy, splitter=random;, score=0.962 total time=   0.0s\n",
      "[CV 3/5] END criterion=entropy, splitter=random;, score=0.951 total time=   0.0s\n",
      "[CV 4/5] END criterion=entropy, splitter=random;, score=0.946 total time=   0.0s\n",
      "[CV 5/5] END criterion=entropy, splitter=random;, score=0.959 total time=   0.0s\n"
     ]
    },
    {
     "data": {
      "text/plain": [
       "GridSearchCV(cv=5, estimator=DecisionTreeClassifier(random_state=37),\n",
       "             param_grid={'criterion': ['gini', 'entropy'],\n",
       "                         'splitter': ['best', 'random']},\n",
       "             scoring='accuracy', verbose=3)"
      ]
     },
     "execution_count": 108,
     "metadata": {},
     "output_type": "execute_result"
    }
   ],
   "source": [
    "params = {\n",
    "    \"criterion\" : [\"gini\", \"entropy\"],\n",
    "    \"splitter\" : [\"best\", \"random\"],\n",
    "}\n",
    "\n",
    "gscv = GridSearchCV(estimator=dtc, param_grid = params, cv = cv, scoring = \"accuracy\", verbose = 3)\n",
    "gscv.fit(X_train, y_train)"
   ]
  },
  {
   "cell_type": "code",
   "execution_count": 109,
   "id": "e96bb0e1",
   "metadata": {},
   "outputs": [
    {
     "name": "stdout",
     "output_type": "stream",
     "text": [
      "              precision    recall  f1-score     support\n",
      "0              0.982167  0.979480  0.980822  731.000000\n",
      "1              0.765625  0.790323  0.777778   62.000000\n",
      "accuracy       0.964691  0.964691  0.964691    0.964691\n",
      "macro avg      0.873896  0.884901  0.879300  793.000000\n",
      "weighted avg   0.965237  0.964691  0.964947  793.000000\n",
      "\n",
      "Confusion Matrix\n",
      " [[716  15]\n",
      " [ 13  49]]\n"
     ]
    }
   ],
   "source": [
    "dtc = DecisionTreeClassifier(criterion=gscv.best_params_[\"criterion\"], splitter=gscv.best_params_[\"splitter\"], random_state = 42)\n",
    "dtc.fit(X_train, y_train)\n",
    "y_pred = dtc.predict(X_test)\n",
    "\n",
    "report = classification_report(y_test, y_pred, output_dict=True)\n",
    "data_report = pd.DataFrame(report).transpose()\n",
    "print(data_report)\n",
    "\n",
    "print(\"\\nConfusion Matrix\\n\",confusion_matrix(y_test, y_pred))"
   ]
  },
  {
   "cell_type": "code",
   "execution_count": 136,
   "id": "d62c6b1f",
   "metadata": {},
   "outputs": [
    {
     "data": {
      "image/png": "[encoded data removed]",
      "text/plain": [
       "<Figure size 432x288 with 1 Axes>"
      ]
     },
     "metadata": {
      "needs_background": "light"
     },
     "output_type": "display_data"
    }
   ],
   "source": [
    "sorted_idx = dtc.feature_importances_.argsort()\n",
    "plt.barh(data.columns[sorted_idx], dtc.feature_importances_[sorted_idx])\n",
    "plt.xlabel(\"Random Forest Feature Importance\")\n",
    "plt.savefig('figures/important_features.png')"
   ]
  },
  {
   "cell_type": "markdown",
   "id": "c2eb38fd",
   "metadata": {},
   "source": [
    "## Hidden Markov Model"
   ]
  },
  {
   "cell_type": "markdown",
   "id": "1db2fea2",
   "metadata": {},
   "source": [
    "### Selecionamento das features a utilizar no modelo"
   ]
  },
  {
   "cell_type": "code",
   "execution_count": 481,
   "id": "2361136a",
   "metadata": {},
   "outputs": [],
   "source": [
    "hmm_features = [\"normT3\", \"normTT4\"]"
   ]
  },
  {
   "cell_type": "code",
   "execution_count": 482,
   "id": "1067f828",
   "metadata": {},
   "outputs": [
    {
     "data": {
      "text/html": [
       "<div>\n",
       "<style scoped>\n",
       "    .dataframe tbody tr th:only-of-type {\n",
       "        vertical-align: middle;\n",
       "    }\n",
       "\n",
       "    .dataframe tbody tr th {\n",
       "        vertical-align: top;\n",
       "    }\n",
       "\n",
       "    .dataframe thead th {\n",
       "        text-align: right;\n",
       "    }\n",
       "</style>\n",
       "<table border=\"1\" class=\"dataframe\">\n",
       "  <thead>\n",
       "    <tr style=\"text-align: right;\">\n",
       "      <th></th>\n",
       "      <th>normT3</th>\n",
       "      <th>normTT4</th>\n",
       "    </tr>\n",
       "  </thead>\n",
       "  <tbody>\n",
       "    <tr>\n",
       "      <th>0</th>\n",
       "      <td>0.605651</td>\n",
       "      <td>0.483484</td>\n",
       "    </tr>\n",
       "    <tr>\n",
       "      <th>4</th>\n",
       "      <td>-0.972673</td>\n",
       "      <td>-1.321686</td>\n",
       "    </tr>\n",
       "    <tr>\n",
       "      <th>7</th>\n",
       "      <td>-1.701131</td>\n",
       "      <td>-0.785776</td>\n",
       "    </tr>\n",
       "    <tr>\n",
       "      <th>8</th>\n",
       "      <td>0.241423</td>\n",
       "      <td>0.427073</td>\n",
       "    </tr>\n",
       "    <tr>\n",
       "      <th>9</th>\n",
       "      <td>-0.487035</td>\n",
       "      <td>-0.701159</td>\n",
       "    </tr>\n",
       "    <tr>\n",
       "      <th>...</th>\n",
       "      <td>...</td>\n",
       "      <td>...</td>\n",
       "    </tr>\n",
       "    <tr>\n",
       "      <th>3766</th>\n",
       "      <td>0.848471</td>\n",
       "      <td>0.003986</td>\n",
       "    </tr>\n",
       "    <tr>\n",
       "      <th>3768</th>\n",
       "      <td>0.120013</td>\n",
       "      <td>0.455278</td>\n",
       "    </tr>\n",
       "    <tr>\n",
       "      <th>3769</th>\n",
       "      <td>-0.244216</td>\n",
       "      <td>0.116809</td>\n",
       "    </tr>\n",
       "    <tr>\n",
       "      <th>3770</th>\n",
       "      <td>-0.001396</td>\n",
       "      <td>-0.729364</td>\n",
       "    </tr>\n",
       "    <tr>\n",
       "      <th>3771</th>\n",
       "      <td>0.241423</td>\n",
       "      <td>-0.249866</td>\n",
       "    </tr>\n",
       "  </tbody>\n",
       "</table>\n",
       "<p>2643 rows × 2 columns</p>\n",
       "</div>"
      ],
      "text/plain": [
       "        normT3   normTT4\n",
       "0     0.605651  0.483484\n",
       "4    -0.972673 -1.321686\n",
       "7    -1.701131 -0.785776\n",
       "8     0.241423  0.427073\n",
       "9    -0.487035 -0.701159\n",
       "...        ...       ...\n",
       "3766  0.848471  0.003986\n",
       "3768  0.120013  0.455278\n",
       "3769 -0.244216  0.116809\n",
       "3770 -0.001396 -0.729364\n",
       "3771  0.241423 -0.249866\n",
       "\n",
       "[2643 rows x 2 columns]"
      ]
     },
     "execution_count": 482,
     "metadata": {},
     "output_type": "execute_result"
    }
   ],
   "source": [
    "hmm_data = data[hmm_features].copy()\n",
    "hmm_data"
   ]
  },
  {
   "cell_type": "markdown",
   "id": "adaf717a",
   "metadata": {},
   "source": [
    "### Classificar os parâmetros"
   ]
  },
  {
   "cell_type": "code",
   "execution_count": 483,
   "id": "e278e3d3",
   "metadata": {},
   "outputs": [],
   "source": [
    "def categoryClassification(dataframe):\n",
    "\n",
    "    for feature in dataframe.columns:\n",
    "        if (feature == 'normT3'):\n",
    "            Q1 = np.percentile(dataframe[feature], 30)\n",
    "            Q3 = np.percentile(dataframe[feature], 77.60121074536511)\n",
    "        if (feature == 'normTT4'):\n",
    "            Q1 = np.percentile(dataframe[feature], 30.53764661369656)\n",
    "            Q3 = np.percentile(dataframe[feature], 76.04994324631102)\n",
    "        L_indexes = dataframe.loc[dataframe[feature] <= Q1, feature].index\n",
    "        M_indexes = dataframe.loc[(dataframe[feature] > Q1) & (dataframe[feature] <= Q3), feature].index\n",
    "        H_indexes = dataframe.loc[dataframe[feature] > Q3, feature].index\n",
    "\n",
    "        dataframe.loc[L_indexes, feature] = \"L\"\n",
    "        dataframe.loc[M_indexes, feature] = \"M\"\n",
    "        dataframe.loc[H_indexes, feature] = \"H\"\n",
    "\n",
    "    return dataframe.copy()"
   ]
  },
  {
   "cell_type": "code",
   "execution_count": 484,
   "id": "38c573ab",
   "metadata": {},
   "outputs": [
    {
     "data": {
      "text/html": [
       "<div>\n",
       "<style scoped>\n",
       "    .dataframe tbody tr th:only-of-type {\n",
       "        vertical-align: middle;\n",
       "    }\n",
       "\n",
       "    .dataframe tbody tr th {\n",
       "        vertical-align: top;\n",
       "    }\n",
       "\n",
       "    .dataframe thead th {\n",
       "        text-align: right;\n",
       "    }\n",
       "</style>\n",
       "<table border=\"1\" class=\"dataframe\">\n",
       "  <thead>\n",
       "    <tr style=\"text-align: right;\">\n",
       "      <th></th>\n",
       "      <th>normT3</th>\n",
       "      <th>normTT4</th>\n",
       "    </tr>\n",
       "  </thead>\n",
       "  <tbody>\n",
       "    <tr>\n",
       "      <th>0</th>\n",
       "      <td>H</td>\n",
       "      <td>M</td>\n",
       "    </tr>\n",
       "    <tr>\n",
       "      <th>4</th>\n",
       "      <td>L</td>\n",
       "      <td>L</td>\n",
       "    </tr>\n",
       "    <tr>\n",
       "      <th>7</th>\n",
       "      <td>L</td>\n",
       "      <td>L</td>\n",
       "    </tr>\n",
       "    <tr>\n",
       "      <th>8</th>\n",
       "      <td>M</td>\n",
       "      <td>M</td>\n",
       "    </tr>\n",
       "    <tr>\n",
       "      <th>9</th>\n",
       "      <td>L</td>\n",
       "      <td>L</td>\n",
       "    </tr>\n",
       "    <tr>\n",
       "      <th>...</th>\n",
       "      <td>...</td>\n",
       "      <td>...</td>\n",
       "    </tr>\n",
       "    <tr>\n",
       "      <th>3766</th>\n",
       "      <td>H</td>\n",
       "      <td>M</td>\n",
       "    </tr>\n",
       "    <tr>\n",
       "      <th>3768</th>\n",
       "      <td>M</td>\n",
       "      <td>M</td>\n",
       "    </tr>\n",
       "    <tr>\n",
       "      <th>3769</th>\n",
       "      <td>M</td>\n",
       "      <td>M</td>\n",
       "    </tr>\n",
       "    <tr>\n",
       "      <th>3770</th>\n",
       "      <td>M</td>\n",
       "      <td>L</td>\n",
       "    </tr>\n",
       "    <tr>\n",
       "      <th>3771</th>\n",
       "      <td>M</td>\n",
       "      <td>M</td>\n",
       "    </tr>\n",
       "  </tbody>\n",
       "</table>\n",
       "<p>2643 rows × 2 columns</p>\n",
       "</div>"
      ],
      "text/plain": [
       "     normT3 normTT4\n",
       "0         H       M\n",
       "4         L       L\n",
       "7         L       L\n",
       "8         M       M\n",
       "9         L       L\n",
       "...     ...     ...\n",
       "3766      H       M\n",
       "3768      M       M\n",
       "3769      M       M\n",
       "3770      M       L\n",
       "3771      M       M\n",
       "\n",
       "[2643 rows x 2 columns]"
      ]
     },
     "execution_count": 484,
     "metadata": {},
     "output_type": "execute_result"
    }
   ],
   "source": [
    "hmm_data = categoryClassification(hmm_data.copy())\n",
    "hmm_data"
   ]
  },
  {
   "cell_type": "code",
   "execution_count": 485,
   "id": "5e773b3b",
   "metadata": {},
   "outputs": [
    {
     "name": "stdout",
     "output_type": "stream",
     "text": [
      "Quantidade de classes classificadas como N: 2431\n",
      "Quantidade de classes classificadas como P: 212\n",
      "     normT3 normTT4 Class\n",
      "0         H       M     N\n",
      "4         L       L     N\n",
      "7         L       L     P\n",
      "8         M       M     N\n",
      "9         L       L     N\n",
      "...     ...     ...   ...\n",
      "3766      H       M     N\n",
      "3768      M       M     N\n",
      "3769      M       M     N\n",
      "3770      M       L     N\n",
      "3771      M       M     N\n",
      "\n",
      "[2643 rows x 3 columns]\n"
     ]
    }
   ],
   "source": [
    "hmm_data[\"Class\"] = np.zeros(hmm_data.shape[0])\n",
    "hmm_data.loc[data[\"Class\"] == 0, \"Class\"] = \"N\"\n",
    "hmm_data.loc[data[\"Class\"] == 1, \"Class\"] = \"P\"\n",
    "print(\"Quantidade de classes classificadas como N:\", hmm_data[hmm_data.Class == \"N\"].shape[0])\n",
    "print(\"Quantidade de classes classificadas como P:\", hmm_data[hmm_data.Class == \"P\"].shape[0])\n",
    "print(hmm_data)"
   ]
  },
  {
   "cell_type": "markdown",
   "id": "91d6d227",
   "metadata": {},
   "source": [
    "### Contar o número de ocorrências das sequências (transições)"
   ]
  },
  {
   "cell_type": "code",
   "execution_count": 486,
   "id": "a175c30b",
   "metadata": {},
   "outputs": [
    {
     "name": "stdout",
     "output_type": "stream",
     "text": [
      "{'NN': 0.920164609053498, 'NP': 0.07983539094650206, 'PN': 0.9150943396226415, 'PP': 0.08490566037735849}\n",
      "Soma das probabilidades:  2.0\n"
     ]
    }
   ],
   "source": [
    "seq_counter = {}\n",
    "transition_prob = {}\n",
    "for i in range(hmm_data.shape[0] - 1):\n",
    "    current_Class = hmm_data[\"Class\"].values[i]\n",
    "    next_Class = hmm_data[\"Class\"].values[i + 1]\n",
    "    seq = current_Class + next_Class\n",
    "\n",
    "    if seq not in seq_counter:\n",
    "        seq_counter[seq] = 1\n",
    "    else:\n",
    "        seq_counter[seq] += 1\n",
    "        \n",
    "transition_prob[\"NN\"] = seq_counter[\"NN\"]/(seq_counter[\"NN\"] + seq_counter[\"NP\"])\n",
    "transition_prob[\"NP\"] = seq_counter[\"NP\"]/(seq_counter[\"NN\"] + seq_counter[\"NP\"])\n",
    "transition_prob[\"PN\"] = seq_counter[\"PN\"]/(seq_counter[\"PN\"] + seq_counter[\"PP\"])\n",
    "transition_prob[\"PP\"] = seq_counter[\"PP\"]/(seq_counter[\"PN\"] + seq_counter[\"PP\"])\n",
    "print(transition_prob)\n",
    "print(\"Soma das probabilidades: \",sum(transition_prob.values()))\n"
   ]
  },
  {
   "cell_type": "markdown",
   "id": "e1c76c0d",
   "metadata": {},
   "source": [
    "### Calcular as probabilidades de emissões"
   ]
  },
  {
   "cell_type": "code",
   "execution_count": 487,
   "id": "c39109bd",
   "metadata": {},
   "outputs": [
    {
     "data": {
      "text/plain": [
       "{'P': {'LL': 0.5330188679245284,\n",
       "  'LM': 0.33490566037735847,\n",
       "  'MH': 0.04716981132075472,\n",
       "  'HH': 0.018867924528301886,\n",
       "  'LH': 0.05660377358490566,\n",
       "  'ML': 0.009433962264150943},\n",
       " 'N': {'HM': 0.08638420403126286,\n",
       "  'LL': 0.11353352529823119,\n",
       "  'MM': 0.274372686137392,\n",
       "  'HH': 0.10695187165775401,\n",
       "  'LM': 0.10612916495269437,\n",
       "  'MH': 0.10777457836281365,\n",
       "  'ML': 0.14849856026326613,\n",
       "  'LH': 0.03167420814479638,\n",
       "  'HL': 0.024681201151789386}}"
      ]
     },
     "execution_count": 487,
     "metadata": {},
     "output_type": "execute_result"
    }
   ],
   "source": [
    " emission_prob = {}\n",
    "\n",
    "for Class in [\"P\", \"N\"]:\n",
    "    emission_dict = {}\n",
    "    temp_hmm_data = hmm_data[hmm_data[\"Class\"] == Class].copy()\n",
    "    \n",
    "    for normT3, normTT4 in zip(temp_hmm_data[\"normT3\"].values, temp_hmm_data[\"normTT4\"].values):\n",
    "        seq = normT3 + normTT4\n",
    "        \n",
    "        if seq not in emission_dict:\n",
    "            emission_dict[seq] = 1\n",
    "        else:\n",
    "            emission_dict[seq] += 1\n",
    "    \n",
    "    emission_prob[Class] = {key: val / temp_hmm_data.shape[0] for key, val in emission_dict.items()}\n",
    "emission_prob"
   ]
  },
  {
   "cell_type": "code",
   "execution_count": 488,
   "id": "3a386d71",
   "metadata": {},
   "outputs": [
    {
     "name": "stdout",
     "output_type": "stream",
     "text": [
      "P [1.0]\n",
      "N [1.0]\n"
     ]
    }
   ],
   "source": [
    "for key, dict_val in emission_prob.items():\n",
    "    print(key, [np.sum(list(dict_val.values()))])"
   ]
  },
  {
   "cell_type": "code",
   "execution_count": 489,
   "id": "6508571c",
   "metadata": {},
   "outputs": [],
   "source": [
    "hmm_model = HiddenMarkovModel( name=\"thyroid sickness\" )"
   ]
  },
  {
   "cell_type": "code",
   "execution_count": 490,
   "id": "0b4a81c3",
   "metadata": {},
   "outputs": [
    {
     "name": "stdout",
     "output_type": "stream",
     "text": [
      "{'P': 0.0802118804388952, 'N': 0.9197881195611048}\n"
     ]
    }
   ],
   "source": [
    "start_prob = {key : hmm_data[hmm_data[\"Class\"] == key].shape[0] / hmm_data.shape[0] for key in [\"P\", \"N\"]}\n",
    "print(start_prob)"
   ]
  },
  {
   "cell_type": "code",
   "execution_count": 491,
   "id": "875107e9",
   "metadata": {},
   "outputs": [],
   "source": [
    "sN = State( DiscreteDistribution(emission_prob[\"N\"]), name=\"N\" ) # 0 \n",
    "sP = State( DiscreteDistribution(emission_prob[\"P\"]), name=\"P\" ) # 1"
   ]
  },
  {
   "cell_type": "code",
   "execution_count": 492,
   "id": "c16f6ff8",
   "metadata": {},
   "outputs": [],
   "source": [
    "hmm_model.add_transition( hmm_model.start, sP, start_prob[\"P\"] )\n",
    "hmm_model.add_transition( hmm_model.start, sN, start_prob[\"N\"] )"
   ]
  },
  {
   "cell_type": "code",
   "execution_count": 493,
   "id": "9adb866f",
   "metadata": {},
   "outputs": [],
   "source": [
    "hmm_model.add_transition( sP, sP, transition_prob[\"PP\"])\n",
    "hmm_model.add_transition( sP, sN, transition_prob[\"PN\"])\n",
    "hmm_model.add_transition( sN, sN, transition_prob[\"NN\"])\n",
    "hmm_model.add_transition( sN, sP, transition_prob[\"NP\"])"
   ]
  },
  {
   "cell_type": "code",
   "execution_count": 494,
   "id": "d8a5c534",
   "metadata": {},
   "outputs": [],
   "source": [
    "hmm_model.add_transition( sN, hmm_model.end, 0.1)\n",
    "hmm_model.add_transition( sP, hmm_model.end, 0.1)"
   ]
  },
  {
   "cell_type": "code",
   "execution_count": 495,
   "id": "ce6509fa",
   "metadata": {},
   "outputs": [
    {
     "name": "stdout",
     "output_type": "stream",
     "text": [
      "thyroid sickness : P summed to 1.1, normalized to 1.0\n",
      "thyroid sickness : N summed to 1.1, normalized to 1.0\n"
     ]
    }
   ],
   "source": [
    "hmm_model.bake( verbose=True )"
   ]
  },
  {
   "cell_type": "code",
   "execution_count": 496,
   "id": "6b297fef",
   "metadata": {},
   "outputs": [],
   "source": [
    "X_test_hmm_1 = X_test[hmm_features].copy()\n",
    "test_hmm = categoryClassification(X_test_hmm_1.copy())\n",
    "X_test_hmm = [x[0] + x[1] for x in test_hmm.values]"
   ]
  },
  {
   "cell_type": "code",
   "execution_count": 497,
   "id": "01ceb5b5",
   "metadata": {},
   "outputs": [],
   "source": [
    "hmm_predictions = hmm_model.predict(np.array(X_test_hmm))"
   ]
  },
  {
   "cell_type": "markdown",
   "id": "3c42b00e",
   "metadata": {},
   "source": [
    "## Previsões"
   ]
  },
  {
   "cell_type": "code",
   "execution_count": 498,
   "id": "c5653730",
   "metadata": {
    "scrolled": true
   },
   "outputs": [
    {
     "name": "stdout",
     "output_type": "stream",
     "text": [
      "    Sequence  Class  DTC predictions  HMM predictions\n",
      "0         LM      0                0                0\n",
      "1         ML      0                0                0\n",
      "2         LL      0                0                0\n",
      "3         ML      0                0                0\n",
      "4         ML      0                0                0\n",
      "..       ...    ...              ...              ...\n",
      "788       LH      0                0                0\n",
      "789       ML      0                0                0\n",
      "790       MM      0                0                0\n",
      "791       MH      0                1                0\n",
      "792       HL      0                0                0\n",
      "\n",
      "[793 rows x 4 columns]\n"
     ]
    }
   ],
   "source": [
    "hmm_dtc_pred = pd.DataFrame({\"Sequence\" : X_test_hmm, \"Class\": y_test.values, \"DTC predictions\" : y_pred, \"HMM predictions\" : hmm_predictions})\n",
    "print(hmm_dtc_pred)"
   ]
  },
  {
   "cell_type": "markdown",
   "id": "9abf1080",
   "metadata": {},
   "source": [
    "## Accuracy"
   ]
  },
  {
   "cell_type": "code",
   "execution_count": 499,
   "id": "6482bb34",
   "metadata": {},
   "outputs": [
    {
     "name": "stdout",
     "output_type": "stream",
     "text": [
      "Accuracy de HMM:  0.9218158890290038\n"
     ]
    }
   ],
   "source": [
    "print(\"Accuracy de HMM: \",hmm_dtc_pred[hmm_dtc_pred[\"Class\"] == hmm_dtc_pred[\"HMM predictions\"]].shape[0] / hmm_dtc_pred.shape[0])"
   ]
  },
  {
   "cell_type": "code",
   "execution_count": null,
   "id": "bd390885",
   "metadata": {},
   "outputs": [],
   "source": []
  }
 ],
 "metadata": {
  "kernelspec": {
   "display_name": "Python 3 (ipykernel)",
   "language": "python",
   "name": "python3"
  },
  "language_info": {
   "codemirror_mode": {
    "name": "ipython",
    "version": 3
   },
   "file_extension": ".py",
   "mimetype": "text/x-python",
   "name": "python",
   "nbconvert_exporter": "python",
   "pygments_lexer": "ipython3",
   "version": "3.9.12"
  }
 },
 "nbformat": 4,
 "nbformat_minor": 5
}
