{
 "cells": [
  {
   "cell_type": "markdown",
   "id": "0de11848",
   "metadata": {},
   "source": [
    "# Bayesian Networks"
   ]
  },
  {
   "cell_type": "markdown",
   "id": "545d5955",
   "metadata": {},
   "source": [
    "## Imports"
   ]
  },
  {
   "cell_type": "code",
   "execution_count": 146,
   "id": "aa22f19c",
   "metadata": {},
   "outputs": [],
   "source": [
    "import os\n",
    "import pandas as pd\n",
    "import numpy as np\n",
    "import matplotlib.pyplot as plt\n",
    "import seaborn as sns\n",
    "import warnings\n",
    "warnings.filterwarnings(\"ignore\")\n",
    "from sklearn.model_selection import train_test_split\n",
    "\n",
    "from pomegranate import HiddenMarkovModel, State, DiscreteDistribution"
   ]
  },
  {
   "cell_type": "markdown",
   "id": "c0f528b6",
   "metadata": {},
   "source": [
    "## Tratamento do data set"
   ]
  },
  {
   "cell_type": "code",
   "execution_count": 147,
   "id": "fbf53f9e",
   "metadata": {},
   "outputs": [],
   "source": [
    "data = pd.read_csv(\"dataset_thyroid_sick.csv\")\n",
    "#remoção de linhas com ?, substituição de valores boolean para int, assim como as da string das labels\n",
    "data = data.drop(['TSH_measured','T3_measured','TT4_measured','T4U_measured','FTI_measured','TBG_measured','TBG','referral_source','query_on_thyroxine'], axis=1)\n",
    "data = data[data != '?']\n",
    "data = data.dropna()\n",
    "data = data.replace({'negative': 0, 'sick': 1})\n",
    "data = data.replace({'t': 1, 'f': 0})\n",
    "data = data.replace({'M': 1, 'F': 0})\n",
    "data.reset_index(drop=True)\n",
    "\n",
    "data['age'] = data['age'].astype('int')\n",
    "data['T3'] = data['T3'].astype('float')\n",
    "data['TT4'] = data['TT4'].astype('float')\n",
    "data['T4U'] = data['T4U'].astype('float')\n",
    "data['Class'] = data['Class'].astype('int')"
   ]
  },
  {
   "cell_type": "markdown",
   "id": "1351583f",
   "metadata": {},
   "source": [
    "## Undersampling"
   ]
  },
  {
   "cell_type": "code",
   "execution_count": 148,
   "id": "88dc9812",
   "metadata": {},
   "outputs": [
    {
     "name": "stdout",
     "output_type": "stream",
     "text": [
      "296 128\n"
     ]
    }
   ],
   "source": [
    "number_sick = len(data[data.Class == 1])\n",
    "number_normal = len(data[data.Class == 0])\n",
    "\n",
    "sick_indices = np.array(data[data.Class == 1].index)\n",
    "normal_indices = np.array(data[data.Class == 0].index)\n",
    "\n",
    "random_normal_indices = np.random.choice(normal_indices, number_sick, replace = False)\n",
    "under_sample_indices = np.concatenate([sick_indices, random_normal_indices])\n",
    "\n",
    "under_sample_data = data.loc[under_sample_indices,:]\n",
    "\n",
    "sizes = [number_sick, len(random_normal_indices)]\n",
    "\n",
    "X_undersample = under_sample_data.iloc[:, under_sample_data.columns != 'Class']\n",
    "y_undersample = under_sample_data.iloc[:, under_sample_data.columns == 'Class']\n",
    "\n",
    "X_train_undersample, X_test_undersample, y_train_undersample, y_test_undersample = train_test_split(X_undersample, y_undersample, test_size = 0.3, random_state = 0)\n",
    "\n",
    "print(X_train_undersample.shape[0],X_test_undersample.shape[0])"
   ]
  },
  {
   "cell_type": "markdown",
   "id": "a5ee6107",
   "metadata": {},
   "source": [
    "## Separação dos dados em treino e teste"
   ]
  },
  {
   "cell_type": "code",
   "execution_count": 149,
   "id": "31c7a9ed",
   "metadata": {
    "scrolled": true
   },
   "outputs": [
    {
     "name": "stdout",
     "output_type": "stream",
     "text": [
      "      age   T3    TT4   T4U  Class\n",
      "3760   77  1.3  102.0  0.95      0\n",
      "1793   55  1.0  102.0  0.82      1\n",
      "2302   71  1.9  133.0  1.09      0\n",
      "1035   25  0.7  122.0  1.13      1\n",
      "1453   58  2.0  151.0  1.05      0\n",
      "...   ...  ...    ...   ...    ...\n",
      "159    58  1.6  103.0  0.90      0\n",
      "3462   72  1.0   97.0  0.65      1\n",
      "1973   74  1.0  102.0  0.90      1\n",
      "663    73  1.4   48.0  1.05      1\n",
      "3167   55  1.0   86.0  0.84      1\n",
      "\n",
      "[296 rows x 5 columns]\n"
     ]
    }
   ],
   "source": [
    "bn_features = [\"age\",\"T3\", \"TT4\",\"T4U\"]\n",
    "bn_data = X_train_undersample[bn_features].copy()\n",
    "bn_data[\"Class\"] = y_train_undersample\n",
    "\n",
    "test_data = X_test_undersample[bn_features].copy()\n",
    "test_data[\"Class\"] = y_test_undersample\n",
    "\n",
    "print(bn_data)"
   ]
  },
  {
   "cell_type": "markdown",
   "id": "5bde9717",
   "metadata": {},
   "source": [
    "## Função para classificar as features"
   ]
  },
  {
   "cell_type": "code",
   "execution_count": 150,
   "id": "5e0c6642",
   "metadata": {},
   "outputs": [],
   "source": [
    "def categoryClassification(bn_data):\n",
    "    #age\n",
    "    Q1 = 20\n",
    "    Q3 = 50\n",
    "    dataframe = bn_data.copy()\n",
    "    L_idx = dataframe.loc[dataframe['age'] <= Q1, 'age'].index\n",
    "    M_idx = dataframe.loc[(dataframe['age'] > Q1) & (dataframe['age'] <= Q3), 'age'].index\n",
    "    H_idx = dataframe.loc[dataframe['age'] > Q3, 'age'].index\n",
    "\n",
    "    dataframe.loc[L_idx, 'age'] = \"L\"\n",
    "    dataframe.loc[M_idx, 'age'] = \"M\"\n",
    "    dataframe.loc[H_idx, 'age'] = \"H\"\n",
    "\n",
    "\n",
    "    #T3\n",
    "    Q1 = 0.9\n",
    "    Q3 = 2.8\n",
    "\n",
    "    G_idx = dataframe.loc[(dataframe['T3'] >= Q1) & (dataframe['T3'] <= Q3), 'T3'].index\n",
    "    B_idx = dataframe.loc[(dataframe['T3'] < Q1) | (dataframe['T3'] > Q3), 'T3'].index\n",
    "\n",
    "    dataframe.loc[G_idx, 'T3'] = \"G\"\n",
    "    dataframe.loc[B_idx, 'T3'] = \"B\"\n",
    "\n",
    "\n",
    "    #TT4\n",
    "    Q1 = 50.0\n",
    "    Q3 = 120.0\n",
    "\n",
    "    G_idx = dataframe.loc[(dataframe['TT4'] >= Q1) & (dataframe['TT4'] <= Q3), 'TT4'].index\n",
    "    B_idx = dataframe.loc[(dataframe['TT4'] < Q1) | (dataframe['TT4'] > Q3), 'TT4'].index\n",
    "\n",
    "    dataframe.loc[G_idx, 'TT4'] = \"G\"\n",
    "    dataframe.loc[B_idx, 'TT4'] = \"B\"\n",
    "\n",
    "\n",
    "    #T4U\n",
    "    Q1 = 0.8\n",
    "    Q3 = 1.8\n",
    "\n",
    "    G_idx = dataframe.loc[(dataframe['T4U'] >= Q1) & (dataframe['T4U'] <= Q3), 'T4U'].index\n",
    "    B_idx = dataframe.loc[(dataframe['T4U'] < Q1) | (dataframe['T4U'] > Q3), 'T4U'].index\n",
    "\n",
    "    dataframe.loc[G_idx, 'T4U'] = \"G\"\n",
    "    dataframe.loc[B_idx, 'T4U'] = \"B\"\n",
    "\n",
    "    dataframe.loc[dataframe[\"Class\"] == 0, \"Class\"] = \"N\"\n",
    "    dataframe.loc[dataframe[\"Class\"] == 1, \"Class\"] = \"P\"\n",
    "\n",
    "    return dataframe.copy()"
   ]
  },
  {
   "cell_type": "code",
   "execution_count": 151,
   "id": "1cbda7df",
   "metadata": {},
   "outputs": [
    {
     "name": "stdout",
     "output_type": "stream",
     "text": [
      "     age T3 TT4 T4U Class\n",
      "3760   H  G   G   G     N\n",
      "1793   H  G   G   G     P\n",
      "2302   H  G   B   G     N\n",
      "1035   M  B   B   G     P\n",
      "1453   H  G   B   G     N\n",
      "...   .. ..  ..  ..   ...\n",
      "159    H  G   G   G     N\n",
      "3462   H  G   G   B     P\n",
      "1973   H  G   G   G     P\n",
      "663    H  G   B   G     P\n",
      "3167   H  G   G   G     P\n",
      "\n",
      "[296 rows x 5 columns]\n",
      "     age T3 TT4 T4U Class\n",
      "2856   H  B   G   G     P\n",
      "309    H  G   G   G     P\n",
      "2477   H  G   G   G     N\n",
      "158    H  G   B   G     P\n",
      "1621   H  B   G   G     P\n",
      "...   .. ..  ..  ..   ...\n",
      "1611   H  G   G   G     N\n",
      "2464   M  G   B   G     N\n",
      "1612   M  G   B   G     N\n",
      "1176   H  G   B   G     N\n",
      "2251   H  G   G   G     N\n",
      "\n",
      "[128 rows x 5 columns]\n"
     ]
    }
   ],
   "source": [
    "bn_data = categoryClassification(bn_data)\n",
    "test_data = categoryClassification(test_data)\n",
    "print(bn_data)\n",
    "print(test_data)"
   ]
  },
  {
   "cell_type": "markdown",
   "id": "92a527b1",
   "metadata": {},
   "source": [
    "## Função para calcular a probabilidade da feature"
   ]
  },
  {
   "cell_type": "code",
   "execution_count": 152,
   "id": "b7c942a4",
   "metadata": {},
   "outputs": [],
   "source": [
    "def featureProbFunction(bn_data):\n",
    "    feature_prob = {}\n",
    "    for feature in bn_data.columns:\n",
    "        if (feature == \"Class\"):\n",
    "            continue\n",
    "        if (feature == \"age\"):\n",
    "            continue\n",
    "        prob = {}\n",
    "        prob[\"B\"] = bn_data[bn_data[feature] == 'B'].shape[0]/bn_data.shape[0]\n",
    "        prob[\"G\"] = bn_data[bn_data[feature] == 'G'].shape[0]/bn_data.shape[0]\n",
    "        feature_prob[feature] = prob\n",
    "\n",
    "    prob = {}\n",
    "    feature = \"age\" \n",
    "    prob[\"L\"] = bn_data[bn_data[feature] == 'L'].shape[0]/bn_data.shape[0]\n",
    "    prob[\"M\"] = bn_data[bn_data[feature] == 'M'].shape[0]/bn_data.shape[0]\n",
    "    prob[\"H\"] = bn_data[bn_data[feature] == 'H'].shape[0]/bn_data.shape[0]\n",
    "    feature_prob[feature] = prob\n",
    "    \n",
    "    return feature_prob"
   ]
  },
  {
   "cell_type": "code",
   "execution_count": 153,
   "id": "20eecc0d",
   "metadata": {},
   "outputs": [
    {
     "name": "stdout",
     "output_type": "stream",
     "text": [
      "{'T3': {'B': 0.28378378378378377, 'G': 0.7162162162162162}, 'TT4': {'B': 0.24662162162162163, 'G': 0.7533783783783784}, 'T4U': {'B': 0.22972972972972974, 'G': 0.7702702702702703}, 'age': {'L': 0.016891891891891893, 'M': 0.2702702702702703, 'H': 0.7128378378378378}}\n"
     ]
    }
   ],
   "source": [
    "feature_prob = featureProbFunction(bn_data)\n",
    "print(feature_prob)"
   ]
  },
  {
   "cell_type": "markdown",
   "id": "76916169",
   "metadata": {},
   "source": [
    "## Função para calcular as probabilidades das features em função das classes"
   ]
  },
  {
   "cell_type": "code",
   "execution_count": 154,
   "id": "6234a898",
   "metadata": {
    "scrolled": true
   },
   "outputs": [],
   "source": [
    "def veracityProbFunction(bn_data):\n",
    "    veracity_prob = {}\n",
    "    for feature in bn_data.columns:\n",
    "        count_P = 0\n",
    "        count_N = 0\n",
    "        count_GN = 0\n",
    "        count_BN = 0\n",
    "        count_GP = 0\n",
    "        count_BP = 0\n",
    "        if (feature == \"Class\"):\n",
    "            continue\n",
    "        elif (feature == \"age\"):\n",
    "            continue\n",
    "        else:\n",
    "            for index, row in bn_data.iterrows():\n",
    "                if row[\"Class\"] == \"P\":\n",
    "                    count_P += 1\n",
    "                    if row[feature] == \"G\":\n",
    "                        count_GP += 1\n",
    "                    if row[feature] == \"B\":\n",
    "                        count_BP += 1\n",
    "                if row[\"Class\"] == \"N\":\n",
    "                    count_N += 1\n",
    "                    if row[feature] == \"G\":\n",
    "                        count_GN += 1\n",
    "                    if row[feature] == \"B\":\n",
    "                        count_BN += 1\n",
    "            veracity_prob[feature] = {\"GP\": count_GP/count_P, \"BP\": count_BP/count_P, \"GN\": count_GN/count_N, \"BN\": count_BN/count_N}\n",
    "\n",
    "\n",
    "    count_LP = 0\n",
    "    count_MP = 0\n",
    "    count_HP = 0\n",
    "    count_LN = 0\n",
    "    count_MN = 0\n",
    "    count_HN = 0\n",
    "\n",
    "    for index, row in bn_data.iterrows():\n",
    "        if row[\"Class\"] == \"P\":\n",
    "            count_P += 1\n",
    "            if row[\"age\"] == \"L\":\n",
    "                count_LP += 1\n",
    "            elif row[\"age\"] == \"M\":\n",
    "                count_MP += 1\n",
    "            else:\n",
    "                count_HP += 1\n",
    "        if row[\"Class\"] == \"N\":\n",
    "            count_N += 1\n",
    "            if row[\"age\"] == \"L\":\n",
    "                count_LN += 1\n",
    "            elif row[\"age\"] == \"M\":\n",
    "                count_MN += 1\n",
    "            else:\n",
    "                count_HN += 1\n",
    "    veracity_prob[\"age\"] = {\"LP\": count_LP/count_P, \"MP\": count_MP/count_P, \"HP\": count_HP/count_P, \"LN\": count_LN/count_N, \"MN\": count_MN/count_N, \"HN\": count_HN/count_N}\n",
    "\n",
    "    veracity_prob[\"Class\"] = {\"P\": bn_data[bn_data.Class == 'P'].shape[0]/bn_data.shape[0],\"N\": bn_data[bn_data.Class == 'N'].shape[0]/bn_data.shape[0]}\n",
    "\n",
    "    return veracity_prob"
   ]
  },
  {
   "cell_type": "code",
   "execution_count": 155,
   "id": "9f931983",
   "metadata": {},
   "outputs": [
    {
     "name": "stdout",
     "output_type": "stream",
     "text": [
      "{'T3': {'GP': 0.5384615384615384, 'BP': 0.46153846153846156, 'GN': 0.8823529411764706, 'BN': 0.11764705882352941}, 'TT4': {'GP': 0.8041958041958042, 'BP': 0.1958041958041958, 'GN': 0.7058823529411765, 'BN': 0.29411764705882354}, 'T4U': {'GP': 0.6083916083916084, 'BP': 0.3916083916083916, 'GN': 0.9215686274509803, 'BN': 0.0784313725490196}, 'age': {'LP': 0.013986013986013986, 'MP': 0.16783216783216784, 'HP': 0.8181818181818182, 'LN': 0.0196078431372549, 'MN': 0.3660130718954248, 'HN': 0.6143790849673203}, 'Class': {'P': 0.4831081081081081, 'N': 0.5168918918918919}}\n"
     ]
    }
   ],
   "source": [
    "veracity_prob = veracityProbFunction(bn_data)\n",
    "print(veracity_prob)"
   ]
  },
  {
   "cell_type": "markdown",
   "id": "7b91a5d4",
   "metadata": {},
   "source": [
    "## Função para calcular as probabilidades das combinações"
   ]
  },
  {
   "cell_type": "code",
   "execution_count": 156,
   "id": "7490849c",
   "metadata": {},
   "outputs": [],
   "source": [
    "def classProbFunction(bn_data):\n",
    "    class_prob = {}\n",
    "    for index, row in bn_data.iterrows():\n",
    "        combination = row['age'] + row['T3'] + row['TT4'] + row['T4U']\n",
    "        if combination not in class_prob:\n",
    "            class_prob[combination] = 1;\n",
    "        else:\n",
    "            class_prob[combination] = class_prob[combination] +1\n",
    "\n",
    "    for key in class_prob:\n",
    "        class_prob[key] = class_prob[key]/bn_data.shape[0]\n",
    "    return class_prob"
   ]
  },
  {
   "cell_type": "code",
   "execution_count": 157,
   "id": "6359a31b",
   "metadata": {},
   "outputs": [
    {
     "name": "stdout",
     "output_type": "stream",
     "text": [
      "{'HGGG': 0.30067567567567566, 'HGBG': 0.11148648648648649, 'MBBG': 0.02027027027027027, 'MBGG': 0.010135135135135136, 'MGGG': 0.14189189189189189, 'HBGB': 0.10135135135135136, 'HBGG': 0.08445945945945946, 'HGGB': 0.07094594594594594, 'HBBG': 0.037162162162162164, 'MGGB': 0.02702702702702703, 'MGBG': 0.05067567567567568, 'HBBB': 0.0033783783783783786, 'MBBB': 0.006756756756756757, 'HGBB': 0.0033783783783783786, 'MBGB': 0.013513513513513514, 'LGBG': 0.006756756756756757, 'LBBB': 0.0033783783783783786, 'LGGG': 0.0033783783783783786, 'LBBG': 0.0033783783783783786}\n"
     ]
    }
   ],
   "source": [
    "class_prob = classProbFunction(bn_data)\n",
    "print(class_prob)"
   ]
  },
  {
   "cell_type": "code",
   "execution_count": 158,
   "id": "b1781843",
   "metadata": {},
   "outputs": [
    {
     "data": {
      "text/plain": [
       "1.0"
      ]
     },
     "execution_count": 158,
     "metadata": {},
     "output_type": "execute_result"
    }
   ],
   "source": [
    "sum(class_prob.values())"
   ]
  },
  {
   "cell_type": "markdown",
   "id": "5e03e9fc",
   "metadata": {},
   "source": [
    "## Função para testar"
   ]
  },
  {
   "cell_type": "code",
   "execution_count": 159,
   "id": "305c7ac6",
   "metadata": {},
   "outputs": [],
   "source": [
    "def testFunction(bn_data):\n",
    "    test_class = []\n",
    "    for index, row in bn_data.iterrows():\n",
    "        prob_P = 1\n",
    "        prob_N = 1\n",
    "        for feature in bn_data.columns:\n",
    "            if (feature != \"Class\"):\n",
    "                prob_P = veracity_prob[\"age\"][row[\"age\"]+\"P\"]*veracity_prob[\"T3\"][row[\"T3\"]+\"P\"]*veracity_prob[\"TT4\"][row[\"TT4\"]+\"P\"]*veracity_prob[\"T4U\"][row[\"T4U\"]+\"P\"]*veracity_prob[\"Class\"][\"P\"]\n",
    "                prob_N = veracity_prob[\"age\"][row[\"age\"]+\"N\"]*veracity_prob[\"T3\"][row[\"T3\"]+\"N\"]*veracity_prob[\"TT4\"][row[\"TT4\"]+\"N\"]*veracity_prob[\"T4U\"][row[\"T4U\"]+\"N\"]*veracity_prob[\"Class\"][\"N\"]\n",
    "        if (prob_P > prob_N):\n",
    "            test_class.append(\"P\")\n",
    "        else:\n",
    "            test_class.append(\"N\")\n",
    "              \n",
    "    return test_class"
   ]
  },
  {
   "cell_type": "code",
   "execution_count": 160,
   "id": "164b136c",
   "metadata": {},
   "outputs": [
    {
     "name": "stdout",
     "output_type": "stream",
     "text": [
      "['P', 'N', 'N', 'N', 'P', 'N', 'N', 'P', 'P', 'N', 'N', 'P', 'N', 'N', 'P', 'N', 'N', 'N', 'N', 'N', 'P', 'P', 'N', 'N', 'N', 'N', 'P', 'N', 'N', 'P', 'N', 'P', 'P', 'N', 'P', 'P', 'N', 'P', 'P', 'N', 'P', 'N', 'N', 'N', 'P', 'N', 'N', 'N', 'N', 'N', 'N', 'N', 'N', 'N', 'N', 'N', 'N', 'P', 'N', 'N', 'P', 'N', 'P', 'N', 'P', 'P', 'P', 'P', 'N', 'N', 'P', 'N', 'P', 'P', 'P', 'N', 'P', 'N', 'P', 'P', 'N', 'N', 'N', 'N', 'P', 'N', 'P', 'N', 'P', 'N', 'P', 'P', 'P', 'N', 'P', 'N', 'N', 'P', 'N', 'N', 'P', 'N', 'N', 'P', 'N', 'N', 'P', 'P', 'P', 'N', 'N', 'N', 'N', 'N', 'P', 'N', 'N', 'N', 'N', 'N', 'P', 'N', 'N', 'N', 'N', 'N', 'N', 'N']\n"
     ]
    }
   ],
   "source": [
    "test_class = testFunction(test_data)\n",
    "print(test_class)"
   ]
  },
  {
   "cell_type": "code",
   "execution_count": 161,
   "id": "1f6230fd",
   "metadata": {},
   "outputs": [
    {
     "name": "stdout",
     "output_type": "stream",
     "text": [
      "47 81 128\n"
     ]
    }
   ],
   "source": [
    "count_P = 0\n",
    "count_N = 0\n",
    "for x in test_class:\n",
    "    if x == \"P\":\n",
    "        count_P += 1\n",
    "    else:\n",
    "        count_N += 1\n",
    "\n",
    "print(count_P,count_N,count_P + count_N)"
   ]
  },
  {
   "cell_type": "code",
   "execution_count": 162,
   "id": "1bf53d04",
   "metadata": {},
   "outputs": [],
   "source": [
    "test_data[\"prediction class\"] = np.array(test_class)"
   ]
  },
  {
   "cell_type": "markdown",
   "id": "724cd725",
   "metadata": {},
   "source": [
    "## Accuracy"
   ]
  },
  {
   "cell_type": "code",
   "execution_count": 164,
   "id": "7db0c466",
   "metadata": {},
   "outputs": [
    {
     "name": "stdout",
     "output_type": "stream",
     "text": [
      "Accuracy de BN:  0.765625\n"
     ]
    }
   ],
   "source": [
    "print(\"Accuracy de BN: \",test_data[test_data[\"Class\"] == test_data[\"prediction class\"]].shape[0] / test_data.shape[0])"
   ]
  },
  {
   "cell_type": "code",
   "execution_count": null,
   "id": "b7a03b31",
   "metadata": {},
   "outputs": [],
   "source": []
  }
 ],
 "metadata": {
  "kernelspec": {
   "display_name": "Python 3 (ipykernel)",
   "language": "python",
   "name": "python3"
  },
  "language_info": {
   "codemirror_mode": {
    "name": "ipython",
    "version": 3
   },
   "file_extension": ".py",
   "mimetype": "text/x-python",
   "name": "python",
   "nbconvert_exporter": "python",
   "pygments_lexer": "ipython3",
   "version": "3.9.7"
  }
 },
 "nbformat": 4,
 "nbformat_minor": 5
}
